{
 "cells": [
  {
   "cell_type": "code",
   "execution_count": 1,
   "id": "eed6452e",
   "metadata": {},
   "outputs": [],
   "source": [
    "import socket"
   ]
  },
  {
   "cell_type": "code",
   "execution_count": 3,
   "id": "34089813",
   "metadata": {},
   "outputs": [],
   "source": [
    "obj = socket.socket()\n",
    "obj.bind(('localhost', 2301))\n",
    "obj.listen(4)"
   ]
  },
  {
   "cell_type": "code",
   "execution_count": 6,
   "id": "d361562f",
   "metadata": {},
   "outputs": [
    {
     "name": "stdout",
     "output_type": "stream",
     "text": [
      "Server is ready to accept connection\n",
      "connected with this address  ('127.0.0.1', 62610)\n",
      "Hello Talha! Hope you are doing well!!!\n"
     ]
    }
   ],
   "source": [
    "client_obj, addr = obj.accept()\n",
    "print(\"Server is ready to accept connection\")\n",
    "print(\"connected with this address \", addr)\n",
    "\n",
    "msg = client_obj.recv(1024)\n",
    "msg = msg.decode('utf-8')\n",
    "\n",
    "print(msg)"
   ]
  },
  {
   "cell_type": "code",
   "execution_count": null,
   "id": "87a5fc33",
   "metadata": {},
   "outputs": [],
   "source": []
  }
 ],
 "metadata": {
  "kernelspec": {
   "display_name": "Python 3 (ipykernel)",
   "language": "python",
   "name": "python3"
  },
  "language_info": {
   "codemirror_mode": {
    "name": "ipython",
    "version": 3
   },
   "file_extension": ".py",
   "mimetype": "text/x-python",
   "name": "python",
   "nbconvert_exporter": "python",
   "pygments_lexer": "ipython3",
   "version": "3.9.7"
  }
 },
 "nbformat": 4,
 "nbformat_minor": 5
}
